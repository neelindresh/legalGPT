{
 "cells": [
  {
   "cell_type": "code",
   "execution_count": 26,
   "id": "9af5dc3e",
   "metadata": {},
   "outputs": [],
   "source": [
    "import langchain\n",
    "from langchain.document_loaders import PyMuPDFLoader\n",
    "from nltk.tokenize import word_tokenize, sent_tokenize \n"
   ]
  },
  {
   "cell_type": "code",
   "execution_count": 13,
   "id": "d692d88b",
   "metadata": {},
   "outputs": [],
   "source": [
    "loader=PyMuPDFLoader(\"docs/71914citax251022.pdf\")"
   ]
  },
  {
   "cell_type": "code",
   "execution_count": 14,
   "id": "fa44c440",
   "metadata": {},
   "outputs": [],
   "source": [
    "docs=loader.load()"
   ]
  },
  {
   "cell_type": "code",
   "execution_count": 61,
   "id": "30bc810c",
   "metadata": {},
   "outputs": [],
   "source": [
    "def rule_based_engine(content):\n",
    "    print(len(content.split()))\n",
    "    \n",
    "def doc_spliter(docs,page=None,chunk_size=200,chunk_overlap=500,separator=\"\\n\"):\n",
    "    if page:\n",
    "        content=docs.page_content\n",
    "        #print([docs.page_content])\n",
    "        sentences=sent_tokenize(content)\n",
    "        _len_counter_=0\n",
    "        paragraph=\"\"\n",
    "        chunks=[]\n",
    "        for sent in sentences:\n",
    "            #rule_based_engine(sent)\n",
    "            sent=sent.replace(separator,\"\")\n",
    "            #print(sent,end=\"\\n------\\n\")\n",
    "            if _len_counter_<=chunk_size:\n",
    "                paragraph\n",
    "                _len_counter_+=len(paragraph)\n",
    "                print(_len_counter_)\n",
    "            else: \n",
    "        print(paragraph)\n",
    "                \n",
    "    else:\n",
    "        for doc in docs:\n",
    "            content=doc.page_content\n",
    "    "
   ]
  },
  {
   "cell_type": "code",
   "execution_count": 62,
   "id": "8c4fd2fc",
   "metadata": {},
   "outputs": [
    {
     "name": "stdout",
     "output_type": "stream",
     "text": [
      "1\n",
      "3\n",
      "6\n",
      "10\n",
      "15\n",
      "21\n",
      "28\n",
      "36\n",
      "45\n",
      "55\n",
      "66\n",
      "78\n",
      "91\n",
      "105\n",
      "120\n",
      "136\n",
      "153\n",
      "171\n",
      "190\n",
      "210\n",
      "[' Preface to the Second Edition Following the enactment of sections 92A to 92F in the Income-tax Act, 1961 providing for the computation of income from an international transaction having regard to arm’s length price, by the Finance Act, 2001, some significant amendments were made by the subsequent Finance Acts.', 'These amendments were made to address the issues arising out of the practical implementation of the transfer pricing regulations.', 'The law relating to transfer pricing is in the process of evolution and the members of the Institute are getting acquainted with the practical implications of the law and the rules relating to transfer pricing.', 'Out of their practical experience some important issues relating to determination of arm’s length price, responsibilities of the Assessing Officer to determine the total income of the assessee in conformity with the arm’s length price determined by the Transfer Pricing Officer and maintenance and keeping of information and documents relating to international transactions have arisen.', 'The Fiscal Laws Committee thought it fit to consider the above developments in their proper prospective and incorporate them in the revised edition of the Guidance Note.', 'Accordingly, Study Groups were constituted in Delhi, Chennai and Bangalore under the Convenorship of CA.', 'Vijay Iyer, CA.', 'R. Bupathy and CA.', 'Padam Chand Khincha respectively.', 'The Study Groups considered the matter in-depth and came out with their valuable inputs.', 'I must compliment CA.', 'K. K. Chythanya, CA.', 'Murali Mohan, CA.', 'Nitin Garg, CA.', 'Shikha Gupta and CA.', 'Tarun Arora, for their excellent contributions in the preparation of this Guidance Note.', 'I express my gratitude to CA.', 'Sunil Talati, President and CA.', 'Ved Jain, Vice-President for their motivation and guidance.', 'I thank CA.']\n"
     ]
    }
   ],
   "source": [
    "doc_spliter(docs[34],page=33)"
   ]
  },
  {
   "cell_type": "code",
   "execution_count": null,
   "id": "7075f243",
   "metadata": {},
   "outputs": [],
   "source": []
  }
 ],
 "metadata": {
  "kernelspec": {
   "display_name": "Python 3",
   "language": "python",
   "name": "python3"
  },
  "language_info": {
   "codemirror_mode": {
    "name": "ipython",
    "version": 3
   },
   "file_extension": ".py",
   "mimetype": "text/x-python",
   "name": "python",
   "nbconvert_exporter": "python",
   "pygments_lexer": "ipython3",
   "version": "3.9.18"
  }
 },
 "nbformat": 4,
 "nbformat_minor": 5
}
