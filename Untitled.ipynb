{
 "cells": [
  {
   "cell_type": "code",
   "execution_count": 21,
   "id": "abc7d450",
   "metadata": {},
   "outputs": [],
   "source": [
    "import langchain\n",
    "from langchain.document_loaders import PyMuPDFLoader\n",
    "from nltk.tokenize import word_tokenize, sent_tokenize \n",
    "from langchain.llms import AzureOpenAI\n",
    "from langchain.chains import LLMChain\n",
    "import config\n",
    "import pandas as pd"
   ]
  },
  {
   "cell_type": "code",
   "execution_count": 3,
   "id": "c878ea9a",
   "metadata": {},
   "outputs": [],
   "source": [
    "loader=PyMuPDFLoader(\"docs/71914citax251022.pdf\")"
   ]
  },
  {
   "cell_type": "code",
   "execution_count": 4,
   "id": "fb3401ee",
   "metadata": {},
   "outputs": [],
   "source": [
    "docs=loader.load()"
   ]
  },
  {
   "cell_type": "code",
   "execution_count": 5,
   "id": "6ac0a7c8",
   "metadata": {},
   "outputs": [],
   "source": [
    "def extract(content,chunk_size,chunk_overlap,separator):\n",
    "    sentences=sent_tokenize(content)\n",
    "    _len_counter_=0\n",
    "    paragraph=[]\n",
    "    chunks=[]\n",
    "    for sent in sentences:\n",
    "        #rule_based_engine(sent)\n",
    "        sent=sent.replace(separator,\"\")\n",
    "        #print(sent,end=\"\\n------\\n\")\n",
    "        if _len_counter_<=chunk_size:\n",
    "            paragraph.append(sent)\n",
    "            _len_counter_+=len(paragraph)\n",
    "\n",
    "        else:  \n",
    "            chunks.append(\" \".join(paragraph))\n",
    "            paragraph=[sent]\n",
    "            _len_counter_=0\n",
    "    if len(paragraph)>0:\n",
    "        chunks.append(\" \".join(paragraph))   \n",
    "    return chunks\n",
    "def doc_spliter(docs,page=None,chunk_size=200,chunk_overlap=True,separator=\"\\n\"):\n",
    "    if page:\n",
    "        content=docs.page_content\n",
    "        chunks=extract(content,chunk_size=200,chunk_overlap=True,separator=\"\\n\")\n",
    "        \n",
    "    else:\n",
    "        chunks=[]\n",
    "        for doc in docs:\n",
    "            content=doc.page_content\n",
    "            _chunks=extract(content,chunk_size=200,chunk_overlap=True,separator=\"\\n\")\n",
    "            chunks.extend(_chunks)\n",
    "    return chunks"
   ]
  },
  {
   "cell_type": "code",
   "execution_count": 6,
   "id": "ad63b3d7",
   "metadata": {},
   "outputs": [],
   "source": [
    "data=doc_spliter(docs)"
   ]
  },
  {
   "cell_type": "code",
   "execution_count": 23,
   "id": "9db6352f",
   "metadata": {},
   "outputs": [],
   "source": [
    "df=pd.DataFrame(data)"
   ]
  },
  {
   "cell_type": "code",
   "execution_count": 24,
   "id": "71cbe614",
   "metadata": {},
   "outputs": [],
   "source": [
    "df.columns=[\"data\"]"
   ]
  },
  {
   "cell_type": "code",
   "execution_count": 25,
   "id": "14f2f540",
   "metadata": {},
   "outputs": [],
   "source": [
    "df.to_csv(\"data.csv\",index=False)"
   ]
  },
  {
   "cell_type": "code",
   "execution_count": null,
   "id": "9b42b032",
   "metadata": {},
   "outputs": [],
   "source": []
  }
 ],
 "metadata": {
  "kernelspec": {
   "display_name": "Python 3",
   "language": "python",
   "name": "python3"
  },
  "language_info": {
   "codemirror_mode": {
    "name": "ipython",
    "version": 3
   },
   "file_extension": ".py",
   "mimetype": "text/x-python",
   "name": "python",
   "nbconvert_exporter": "python",
   "pygments_lexer": "ipython3",
   "version": "3.9.18"
  }
 },
 "nbformat": 4,
 "nbformat_minor": 5
}
